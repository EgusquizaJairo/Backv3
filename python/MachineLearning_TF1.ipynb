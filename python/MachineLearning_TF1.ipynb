{
  "nbformat": 4,
  "nbformat_minor": 0,
  "metadata": {
    "colab": {
      "provenance": []
    },
    "kernelspec": {
      "name": "python3",
      "display_name": "Python 3"
    },
    "language_info": {
      "name": "python"
    }
  },
  "cells": [
    {
      "cell_type": "code",
      "execution_count": null,
      "metadata": {
        "id": "jdaZv4EPK8k7"
      },
      "outputs": [],
      "source": [
        "from bs4 import BeautifulSoup\n",
        "import requests"
      ]
    },
    {
      "cell_type": "code",
      "source": [
        "!pip3 install beautifulsoup4\n",
        "!pip3 install requests"
      ],
      "metadata": {
        "colab": {
          "base_uri": "https://localhost:8080/"
        },
        "id": "QbbvTLPpMNHV",
        "outputId": "4754a172-a611-4af0-abfd-cb9e1e45944e"
      },
      "execution_count": null,
      "outputs": [
        {
          "output_type": "stream",
          "name": "stdout",
          "text": [
            "Requirement already satisfied: beautifulsoup4 in /usr/local/lib/python3.10/dist-packages (4.11.2)\n",
            "Requirement already satisfied: soupsieve>1.2 in /usr/local/lib/python3.10/dist-packages (from beautifulsoup4) (2.5)\n",
            "Requirement already satisfied: requests in /usr/local/lib/python3.10/dist-packages (2.31.0)\n",
            "Requirement already satisfied: charset-normalizer<4,>=2 in /usr/local/lib/python3.10/dist-packages (from requests) (3.3.1)\n",
            "Requirement already satisfied: idna<4,>=2.5 in /usr/local/lib/python3.10/dist-packages (from requests) (3.4)\n",
            "Requirement already satisfied: urllib3<3,>=1.21.1 in /usr/local/lib/python3.10/dist-packages (from requests) (2.0.7)\n",
            "Requirement already satisfied: certifi>=2017.4.17 in /usr/local/lib/python3.10/dist-packages (from requests) (2023.7.22)\n"
          ]
        }
      ]
    },
    {
      "cell_type": "code",
      "source": [
        "from bs4 import BeautifulSoup\n",
        "import requests\n",
        "Data = 'https://www.paquetesdeviajesperu.com/tours-peru/'\n",
        "Request = requests.get(Data)\n",
        "HTML = Request.text\n",
        "soup = BeautifulSoup(HTML, \"html.parser\")"
      ],
      "metadata": {
        "id": "36Jxqu88M21o"
      },
      "execution_count": null,
      "outputs": []
    },
    {
      "cell_type": "code",
      "source": [
        "primer_h2 = soup.find('h2')\n",
        "print(primer_h2.text)"
      ],
      "metadata": {
        "colab": {
          "base_uri": "https://localhost:8080/"
        },
        "id": "kC_h9p0iO3G6",
        "outputId": "4a10c980-da6c-406b-c476-1a4988a5b2b8"
      },
      "execution_count": null,
      "outputs": [
        {
          "output_type": "stream",
          "name": "stdout",
          "text": [
            "Tours Perú: Explora las maravillas Peruanas\n"
          ]
        }
      ]
    },
    {
      "cell_type": "code",
      "source": [
        "import re\n",
        "\n",
        "# 1. Obtener el HTML\n",
        "URL_BASE = 'https://www.paquetesdeviajesperu.com/tours-peru/'\n",
        "pedido_obtenido = requests.get(URL_BASE)\n",
        "html_obtenido = pedido_obtenido.text\n",
        "\n",
        "# 2. \"Parsear\" ese HTML\n",
        "soup = BeautifulSoup(html_obtenido, \"html.parser\")\n",
        "\n",
        "#ViajesLima = soup.find_all(string=re.compile(\"Lima,\"))\n",
        "#ViajesLima\n",
        "#ViajesCusco = soup.find_all(string=re.compile(\"Cusco,\"))\n",
        "#ViajesCusco"
      ],
      "metadata": {
        "id": "IzFHfNCGSBbn"
      },
      "execution_count": null,
      "outputs": []
    },
    {
      "cell_type": "code",
      "source": [
        "precios = soup.find_all('div', class_ = \"tourmaster-tour-price-bottom-wrap clearfix\")\n",
        "\n",
        "for div in precios:\n",
        "  print(div.text)\n",
        "  print(\" \")"
      ],
      "metadata": {
        "colab": {
          "base_uri": "https://localhost:8080/"
        },
        "id": "AxqPpzfFiKkX",
        "outputId": "57f3f453-e5bf-4f87-a447-c4734aff5ff3"
      },
      "execution_count": null,
      "outputs": [
        {
          "output_type": "stream",
          "name": "stdout",
          "text": [
            "Desde:$ 680/ Por persona\n",
            " \n",
            "Desde:$ 855/ Por persona\n",
            " \n",
            "Desde:$ 990/ Por persona\n",
            " \n",
            "Desde:$ 1,035/ Por persona\n",
            " \n",
            "Desde:$ 1,235/ Por persona\n",
            " \n",
            "Desde:$ 1,765/ Por persona\n",
            " \n",
            "Desde:$ 2,250/ Por persona\n",
            " \n",
            "Desde:$ 2,320/ Por persona\n",
            " \n",
            "Desde:$ 330/ Por persona\n",
            " \n",
            "Desde:$ 445/ Por persona\n",
            " \n",
            "Desde:$ 455/ Por persona\n",
            " \n",
            "Desde:$ 545/ Por persona\n",
            " \n",
            "Desde:$ 620/ Por persona\n",
            " \n",
            "Desde:$ 675/ Por persona\n",
            " \n",
            "Desde:$ 745/ Por persona\n",
            " \n"
          ]
        }
      ]
    },
    {
      "cell_type": "code",
      "source": [
        "Nombre_Paquete = soup.find_all('h3')\n",
        "print(Nombre_Paquete)\n",
        "for seccion in Nombre_Paquete:\n",
        "  print(seccion.get_text(strip=True))"
      ],
      "metadata": {
        "colab": {
          "base_uri": "https://localhost:8080/"
        },
        "id": "mELPZHYyjbWI",
        "outputId": "968a98bc-5852-4f3e-91cb-828f4355d60b"
      },
      "execution_count": null,
      "outputs": [
        {
          "output_type": "stream",
          "name": "stdout",
          "text": [
            "[<h3 class=\"tourmaster-tour-title gdlr-core-skin-title\" style=\"font-size: 18px;font-weight: 500;letter-spacing: 0px;text-transform: none;\"><a href=\"https://www.paquetesdeviajesperu.com/tour/lima-colonial-tierra-sagrada-de-los-incas-7-dias/\">Lima Colonial y Tierra sagrada de los Incas 7 Dias</a></h3>, <h3 class=\"tourmaster-tour-title gdlr-core-skin-title\" style=\"font-size: 18px;font-weight: 500;letter-spacing: 0px;text-transform: none;\"><a href=\"https://www.paquetesdeviajesperu.com/tour/encuentro-de-los-incas-8-dias/\">Encuentro de los Incas 8 Dias</a></h3>, <h3 class=\"tourmaster-tour-title gdlr-core-skin-title\" style=\"font-size: 18px;font-weight: 500;letter-spacing: 0px;text-transform: none;\"><a href=\"https://www.paquetesdeviajesperu.com/tour/explora-cusco-selva-amazonica/\">Explora Cusco + Camino Inca Corto con la Selva Amazónica 8 Dias</a></h3>, <h3 class=\"tourmaster-tour-title gdlr-core-skin-title\" style=\"font-size: 18px;font-weight: 500;letter-spacing: 0px;text-transform: none;\"><a href=\"https://www.paquetesdeviajesperu.com/tour/peru-cultura-viva-eco-amazonia/\">Perú Cultura Viva + Eco amazonia peruana 9 Dias</a></h3>, <h3 class=\"tourmaster-tour-title gdlr-core-skin-title\" style=\"font-size: 18px;font-weight: 500;letter-spacing: 0px;text-transform: none;\"><a href=\"https://www.paquetesdeviajesperu.com/tour/peru-espectacular-10-dias/\">Perú Espectacular 10 Dias: Lima, Machu Picchu, Puno</a></h3>, <h3 class=\"tourmaster-tour-title gdlr-core-skin-title\" style=\"font-size: 18px;font-weight: 500;letter-spacing: 0px;text-transform: none;\"><a href=\"https://www.paquetesdeviajesperu.com/tour/peru-historico-gastronomico-10-dias/\">Perú Historia y Gastronómico 10 Dias</a></h3>, <h3 class=\"tourmaster-tour-title gdlr-core-skin-title\" style=\"font-size: 18px;font-weight: 500;letter-spacing: 0px;text-transform: none;\"><a href=\"https://www.paquetesdeviajesperu.com/tour/origenes-de-los-incas-10d/\">Orígenes de los Incas 10 dias</a></h3>, <h3 class=\"tourmaster-tour-title gdlr-core-skin-title\" style=\"font-size: 18px;font-weight: 500;letter-spacing: 0px;text-transform: none;\"><a href=\"https://www.paquetesdeviajesperu.com/tour/explora-las-maravillas-del-peru-13d/\">Explora las maravillas del Perú, Costa, Andes y Amazonia 13 Dias</a></h3>, <h3 class=\"tourmaster-tour-title gdlr-core-skin-title\" style=\"font-size: 18px;font-weight: 500;letter-spacing: 0px;text-transform: none;\"><a href=\"https://www.paquetesdeviajesperu.com/tour/desafio-de-los-incas-15-dias/\">Desafío de los incas 15 Días</a></h3>, <h3 class=\"tourmaster-tour-title gdlr-core-skin-title\" style=\"font-size: 18px;font-weight: 500;letter-spacing: 0px;text-transform: none;\"><a href=\"https://www.paquetesdeviajesperu.com/tour/origenes-y-misterios-de-los-andes-16d/\">Orígenes y Misterios de los Andes 16 Dias</a></h3>, <h3 class=\"tourmaster-tour-title gdlr-core-skin-title\" style=\"font-size: 18px;font-weight: 500;letter-spacing: 0px;text-transform: none;\"><a href=\"https://www.paquetesdeviajesperu.com/tour/increibles-tesoros-escondidos-huaraz-17d/\">Increíbles tesoros escondidos +Huaraz 17 Dias</a></h3>, <h3 class=\"tourmaster-tour-title gdlr-core-skin-title\" style=\"font-size: 18px;font-weight: 500;letter-spacing: 0px;text-transform: none;\"><a href=\"https://www.paquetesdeviajesperu.com/tour/cusco-machu-picchu-2-dias/\">Machu Picchu Increíble 2 Dias</a></h3>, <h3 class=\"tourmaster-tour-title gdlr-core-skin-title\" style=\"font-size: 18px;font-weight: 500;letter-spacing: 0px;text-transform: none;\"><a href=\"https://www.paquetesdeviajesperu.com/tour/cusco-machu-picchu-3-dias/\">Machu Picchu express 3 Dias</a></h3>, <h3 class=\"tourmaster-tour-title gdlr-core-skin-title\" style=\"font-size: 18px;font-weight: 500;letter-spacing: 0px;text-transform: none;\"><a href=\"https://www.paquetesdeviajesperu.com/tour/cusco-machu-picchu-4-dias/\">Machu Picchu Moderada 4 Dias</a></h3>, <h3 class=\"tourmaster-tour-title gdlr-core-skin-title\" style=\"font-size: 18px;font-weight: 500;letter-spacing: 0px;text-transform: none;\"><a href=\"https://www.paquetesdeviajesperu.com/tour/machu-picchu-clasico-5d/\">Machu Picchu Clásico 5 Dias</a></h3>, <h3 class=\"tourmaster-tour-title gdlr-core-skin-title\" style=\"font-size: 18px;font-weight: 500;letter-spacing: 0px;text-transform: none;\"><a href=\"https://www.paquetesdeviajesperu.com/tour/machu-picchu-laguna-humantay-6-dias/\">Machu Picchu + Laguna Humantay 6 Dias</a></h3>, <h3 class=\"tourmaster-tour-title gdlr-core-skin-title\" style=\"font-size: 18px;font-weight: 500;letter-spacing: 0px;text-transform: none;\"><a href=\"https://www.paquetesdeviajesperu.com/tour/cusco-valle-sagrado-machu-picchu-7-dias/\">Increíble experiencia en Machupicchu 7 dias</a></h3>, <h3 class=\"tourmaster-tour-title gdlr-core-skin-title\" style=\"font-size: 18px;font-weight: 500;letter-spacing: 0px;text-transform: none;\"><a href=\"https://www.paquetesdeviajesperu.com/tour/desafio-machu-picchu-8d/\">Desafío Machu Picchu 8 Dias</a></h3>, <h3 class=\"gdlr-core-title-item-title gdlr-core-skin-title\" style=\"font-size: 40px ;font-weight: 500 ;letter-spacing: 0px ;text-transform: none ;color: #ffffff ;\"><span class=\"gdlr-core-title-item-left-icon\"><i class=\"icon_chat_alt\" style=\"color: #aa9875 ;\"></i></span>Cualquiera que haya viajado, recomienda!<span class=\"gdlr-core-title-item-title-divider gdlr-core-skin-divider\"></span></h3>]\n",
            "Lima Colonial y Tierra sagrada de los Incas 7 Dias\n",
            "Encuentro de los Incas 8 Dias\n",
            "Explora Cusco + Camino Inca Corto con la Selva Amazónica 8 Dias\n",
            "Perú Cultura Viva + Eco amazonia peruana 9 Dias\n",
            "Perú Espectacular 10 Dias: Lima, Machu Picchu, Puno\n",
            "Perú Historia y Gastronómico 10 Dias\n",
            "Orígenes de los Incas 10 dias\n",
            "Explora las maravillas del Perú, Costa, Andes y Amazonia 13 Dias\n",
            "Desafío de los incas 15 Días\n",
            "Orígenes y Misterios de los Andes 16 Dias\n",
            "Increíbles tesoros escondidos +Huaraz 17 Dias\n",
            "Machu Picchu Increíble 2 Dias\n",
            "Machu Picchu express 3 Dias\n",
            "Machu Picchu Moderada 4 Dias\n",
            "Machu Picchu Clásico 5 Dias\n",
            "Machu Picchu + Laguna Humantay 6 Dias\n",
            "Increíble experiencia en Machupicchu 7 dias\n",
            "Desafío Machu Picchu 8 Dias\n",
            "Cualquiera que haya viajado, recomienda!\n"
          ]
        }
      ]
    },
    {
      "cell_type": "code",
      "source": [
        "import csv\n",
        "Nombre_Paquete.insert(0,\"Nombre_Paquete\")\n",
        "precios.insert(0,\"precios\")\n",
        "\n",
        "datos=dict(zip(Nombre_Paquete,precios))\n",
        "with open('dataset.csv','w') as f:\n",
        "  w = csv.writer(f)\n",
        "  w.writerows(datos.items())"
      ],
      "metadata": {
        "id": "GJWoJeXXkmLp"
      },
      "execution_count": null,
      "outputs": []
    },
    {
      "cell_type": "markdown",
      "source": [
        "**MACHINE LEARNING**"
      ],
      "metadata": {
        "id": "yv3THtAMBSMb"
      }
    },
    {
      "cell_type": "markdown",
      "source": [
        "Recomendación basado en Machine Learning"
      ],
      "metadata": {
        "id": "wrX_2bVL8fV0"
      }
    },
    {
      "cell_type": "code",
      "source": [
        "import pandas as pd\n",
        "from math import sqrt\n",
        "import numpy as np\n",
        "import matplotlib.pyplot as plt"
      ],
      "metadata": {
        "id": "682gN70N8K3F"
      },
      "execution_count": null,
      "outputs": []
    },
    {
      "cell_type": "code",
      "source": [
        "viajes = pd.read_csv('dataset1.csv')\n",
        "rating=pd.read_csv('ratings.csv')\n",
        "print('viajes:\\n',viajes.head())\n",
        "print (viajes.columns)"
      ],
      "metadata": {
        "colab": {
          "base_uri": "https://localhost:8080/"
        },
        "id": "IKwjUOHk80GX",
        "outputId": "192fe4c8-15c1-43d7-e4a6-598180357e7a"
      },
      "execution_count": null,
      "outputs": [
        {
          "output_type": "stream",
          "name": "stdout",
          "text": [
            "viajes:\n",
            "    viajeid          title                                       tags\n",
            "0        1      Punta Sal  Desayuno|Tour|Alojamiento|Economico|Playa\n",
            "1        2           Lima          Desayuno|Tour|Alojamiento|Costoso\n",
            "2        3          Cusco          Desayuno|Tour|Alojamiento|Costoso\n",
            "3        4          Punto        Desayuno|Tour|Alojamiento|Economico\n",
            "4        5  Cusco y Selva          Desayuno|Tour|Alojamiento|Costoso\n",
            "Index(['viajeid', 'title', 'tags'], dtype='object')\n"
          ]
        }
      ]
    },
    {
      "cell_type": "code",
      "source": [
        "viajes['tags']=viajes.tags.str.split('|')"
      ],
      "metadata": {
        "id": "Ztfq6yxj0T0z"
      },
      "execution_count": null,
      "outputs": []
    },
    {
      "cell_type": "markdown",
      "source": [],
      "metadata": {
        "id": "EGsK0SBQ9hFO"
      }
    },
    {
      "cell_type": "code",
      "source": [
        "viajes_co=viajes.copy()\n",
        "for index,row in viajes.iterrows():\n",
        "  for tag in row['tags']:\n",
        "    viajes_co.at[index,tag]=1"
      ],
      "metadata": {
        "id": "ppKSCll7MtYg"
      },
      "execution_count": null,
      "outputs": []
    },
    {
      "cell_type": "code",
      "source": [
        "viajes_co=viajes_co.fillna(0)\n",
        "print('Viajes Codificados:',viajes_co)"
      ],
      "metadata": {
        "colab": {
          "base_uri": "https://localhost:8080/"
        },
        "id": "MijjQc0tSq3G",
        "outputId": "2264c592-c523-4e36-f765-a8665f5abc3b"
      },
      "execution_count": null,
      "outputs": [
        {
          "output_type": "stream",
          "name": "stdout",
          "text": [
            "Viajes Codificados:     viajeid                            title  \\\n",
            "0         1                        Punta Sal   \n",
            "1         2                             Lima   \n",
            "2         3                            Cusco   \n",
            "3         4                            Punto   \n",
            "4         5                    Cusco y Selva   \n",
            "5         6                     Machu Picchu   \n",
            "6         7                             Lima   \n",
            "7         8                         Amazonia   \n",
            "8         9                     Lima y Cusco   \n",
            "9        10                     Lima y Nazca   \n",
            "10       11                    Cusco y Selva   \n",
            "11       12                     Cusco y Puno   \n",
            "12       13           Machu Picchu Increible   \n",
            "13       14             Machu Picchu Express   \n",
            "14       15  Machu Picchu y Laguna Huamantay   \n",
            "15       16         Machu Picchu Experiencia   \n",
            "16       17      Machu Picchu y Camino  Inca   \n",
            "17       18          Machu Picchu y Caminata   \n",
            "18       19            Machu Picchu Moderado   \n",
            "19       20                    Valle Sagrado   \n",
            "20       21                      Camino Inca   \n",
            "21       22                 Laguna Huamantay   \n",
            "22       23                             Puno   \n",
            "\n",
            "                                               tags  Desayuno  Tour  \\\n",
            "0   [Desayuno, Tour, Alojamiento, Economico, Playa]       1.0   1.0   \n",
            "1            [Desayuno, Tour, Alojamiento, Costoso]       1.0   1.0   \n",
            "2            [Desayuno, Tour, Alojamiento, Costoso]       1.0   1.0   \n",
            "3          [Desayuno, Tour, Alojamiento, Economico]       1.0   1.0   \n",
            "4            [Desayuno, Tour, Alojamiento, Costoso]       1.0   1.0   \n",
            "5      [Desayuno, Tour, Alojamiento, Costoso, Tren]       1.0   1.0   \n",
            "6          [Desayuno, Tour, Alojamiento, Economico]       1.0   1.0   \n",
            "7            [Desayuno, Tour, Alojamiento, Costoso]       1.0   1.0   \n",
            "8            [Desayuno, Tour, Alojamiento, Regular]       1.0   1.0   \n",
            "9          [Desayuno, Tour, Alojamiento, Economico]       1.0   1.0   \n",
            "10           [Desayuno, Tour, Alojamiento, Regular]       1.0   1.0   \n",
            "11           [Desayuno, Tour, Alojamiento, Regular]       1.0   1.0   \n",
            "12     [Desayuno, Tour, Alojamiento, Costoso, Tren]       1.0   1.0   \n",
            "13     [Desayuno, Tour, Alojamiento, Costoso, Tren]       1.0   1.0   \n",
            "14     [Desayuno, Tour, Alojamiento, Costoso, Tren]       1.0   1.0   \n",
            "15     [Desayuno, Tour, Alojamiento, Costoso, Tren]       1.0   1.0   \n",
            "16     [Desayuno, Tour, Alojamiento, Costoso, Tren]       1.0   1.0   \n",
            "17     [Desayuno, Tour, Alojamiento, Costoso, Tren]       1.0   1.0   \n",
            "18     [Desayuno, Tour, Alojamiento, Costoso, Tren]       1.0   1.0   \n",
            "19     [Desayuno, Tour, Alojamiento, Costoso, Tren]       1.0   1.0   \n",
            "20           [Desayuno, Tour, Alojamiento, Regular]       1.0   1.0   \n",
            "21         [Desayuno, Tour, Alojamiento, Economico]       1.0   1.0   \n",
            "22           [Desayuno, Tour, Alojamiento, Regular]       1.0   1.0   \n",
            "\n",
            "    Alojamiento  Economico  Playa  Costoso  Tren  Regular  \n",
            "0           1.0        1.0    1.0      0.0   0.0      0.0  \n",
            "1           1.0        0.0    0.0      1.0   0.0      0.0  \n",
            "2           1.0        0.0    0.0      1.0   0.0      0.0  \n",
            "3           1.0        1.0    0.0      0.0   0.0      0.0  \n",
            "4           1.0        0.0    0.0      1.0   0.0      0.0  \n",
            "5           1.0        0.0    0.0      1.0   1.0      0.0  \n",
            "6           1.0        1.0    0.0      0.0   0.0      0.0  \n",
            "7           1.0        0.0    0.0      1.0   0.0      0.0  \n",
            "8           1.0        0.0    0.0      0.0   0.0      1.0  \n",
            "9           1.0        1.0    0.0      0.0   0.0      0.0  \n",
            "10          1.0        0.0    0.0      0.0   0.0      1.0  \n",
            "11          1.0        0.0    0.0      0.0   0.0      1.0  \n",
            "12          1.0        0.0    0.0      1.0   1.0      0.0  \n",
            "13          1.0        0.0    0.0      1.0   1.0      0.0  \n",
            "14          1.0        0.0    0.0      1.0   1.0      0.0  \n",
            "15          1.0        0.0    0.0      1.0   1.0      0.0  \n",
            "16          1.0        0.0    0.0      1.0   1.0      0.0  \n",
            "17          1.0        0.0    0.0      1.0   1.0      0.0  \n",
            "18          1.0        0.0    0.0      1.0   1.0      0.0  \n",
            "19          1.0        0.0    0.0      1.0   1.0      0.0  \n",
            "20          1.0        0.0    0.0      0.0   0.0      1.0  \n",
            "21          1.0        1.0    0.0      0.0   0.0      0.0  \n",
            "22          1.0        0.0    0.0      0.0   0.0      1.0  \n"
          ]
        }
      ]
    },
    {
      "cell_type": "code",
      "source": [
        "usuario_en=[\n",
        "    {'title':'Punta Sal','rating':2},\n",
        "    {'title':'Amazonia','rating':5},\n",
        "    {'title':'Machu Picchu','rating':5}\n",
        "]\n",
        "entrada_viajes=pd.DataFrame(usuario_en)\n",
        "print('Viajes Usuario:\\n',entrada_viajes)"
      ],
      "metadata": {
        "colab": {
          "base_uri": "https://localhost:8080/"
        },
        "id": "XtAoJh4dTenA",
        "outputId": "b555f51a-616e-45b1-93bc-49ca0809a959"
      },
      "execution_count": null,
      "outputs": [
        {
          "output_type": "stream",
          "name": "stdout",
          "text": [
            "Viajes Usuario:\n",
            "           title  rating\n",
            "0     Punta Sal       2\n",
            "1      Amazonia       5\n",
            "2  Machu Picchu       5\n"
          ]
        }
      ]
    },
    {
      "cell_type": "code",
      "source": [
        "Id=viajes[viajes['title'].isin(entrada_viajes['title'].tolist())]\n",
        "entrada_viajes=pd.merge(Id,entrada_viajes)"
      ],
      "metadata": {
        "id": "5DvzdFu9WK2w"
      },
      "execution_count": null,
      "outputs": []
    },
    {
      "cell_type": "code",
      "source": [
        "viajes_usuario=viajes_co[viajes_co['viajeid'].isin(entrada_viajes['viajeid'].tolist())]\n",
        "print('Viajes Usuario Codificados:',viajes_usuario)"
      ],
      "metadata": {
        "colab": {
          "base_uri": "https://localhost:8080/"
        },
        "id": "eTUBXRsaWhY3",
        "outputId": "62a1afbb-d365-4a9c-fc05-527a1bfc7e18"
      },
      "execution_count": null,
      "outputs": [
        {
          "output_type": "stream",
          "name": "stdout",
          "text": [
            "Viajes Usuario Codificados:    viajeid         title                                             tags  \\\n",
            "0        1     Punta Sal  [Desayuno, Tour, Alojamiento, Economico, Playa]   \n",
            "5        6  Machu Picchu     [Desayuno, Tour, Alojamiento, Costoso, Tren]   \n",
            "7        8      Amazonia           [Desayuno, Tour, Alojamiento, Costoso]   \n",
            "\n",
            "   Desayuno  Tour  Alojamiento  Economico  Playa  Costoso  Tren  Regular  \n",
            "0       1.0   1.0          1.0        1.0    1.0      0.0   0.0      0.0  \n",
            "5       1.0   1.0          1.0        0.0    0.0      1.0   1.0      0.0  \n",
            "7       1.0   1.0          1.0        0.0    0.0      1.0   0.0      0.0  \n"
          ]
        }
      ]
    },
    {
      "cell_type": "code",
      "source": [
        "viajes_usuario=viajes_usuario.reset_index(drop=True)\n",
        "tabla_tags=viajes_usuario.drop('viajeid',1).drop('title',1).drop('tags',1)\n",
        "print('Tabla de Categorias:\\n',tabla_tags)"
      ],
      "metadata": {
        "colab": {
          "base_uri": "https://localhost:8080/"
        },
        "id": "WblEgUgNehAA",
        "outputId": "22edcd6c-3463-4600-db84-615b5fe5a550"
      },
      "execution_count": null,
      "outputs": [
        {
          "output_type": "stream",
          "name": "stdout",
          "text": [
            "Tabla de Categorias:\n",
            "    Desayuno  Tour  Alojamiento  Economico  Playa  Costoso  Tren  Regular\n",
            "0       1.0   1.0          1.0        1.0    1.0      0.0   0.0      0.0\n",
            "1       1.0   1.0          1.0        0.0    0.0      1.0   1.0      0.0\n",
            "2       1.0   1.0          1.0        0.0    0.0      1.0   0.0      0.0\n"
          ]
        },
        {
          "output_type": "stream",
          "name": "stderr",
          "text": [
            "<ipython-input-38-7376e9aa9d50>:2: FutureWarning: In a future version of pandas all arguments of DataFrame.drop except for the argument 'labels' will be keyword-only.\n",
            "  tabla_tags=viajes_usuario.drop('viajeid',1).drop('title',1).drop('tags',1)\n",
            "<ipython-input-38-7376e9aa9d50>:2: FutureWarning: In a future version of pandas all arguments of DataFrame.drop except for the argument 'labels' will be keyword-only.\n",
            "  tabla_tags=viajes_usuario.drop('viajeid',1).drop('title',1).drop('tags',1)\n",
            "<ipython-input-38-7376e9aa9d50>:2: FutureWarning: In a future version of pandas all arguments of DataFrame.drop except for the argument 'labels' will be keyword-only.\n",
            "  tabla_tags=viajes_usuario.drop('viajeid',1).drop('title',1).drop('tags',1)\n"
          ]
        }
      ]
    },
    {
      "cell_type": "code",
      "source": [
        "perfil_usu = tabla_tags.transpose().dot(entrada_viajes['rating'])\n",
        "print('Categoría que el usuario prefiere:\\n',perfil_usu)"
      ],
      "metadata": {
        "colab": {
          "base_uri": "https://localhost:8080/"
        },
        "id": "bnT2r8t5mo1G",
        "outputId": "218b1a7f-004f-49f4-ccd2-8a2a1b7ea0c8"
      },
      "execution_count": null,
      "outputs": [
        {
          "output_type": "stream",
          "name": "stdout",
          "text": [
            "Categoría que el usuario prefiere:\n",
            " Desayuno       12.0\n",
            "Tour           12.0\n",
            "Alojamiento    12.0\n",
            "Economico       2.0\n",
            "Playa           2.0\n",
            "Costoso        10.0\n",
            "Tren            5.0\n",
            "Regular         0.0\n",
            "dtype: float64\n"
          ]
        }
      ]
    },
    {
      "cell_type": "code",
      "source": [
        "tags=viajes_co.set_index(viajes_co['viajeid'])\n",
        "tags = tags.drop('viajeid',1).drop('title',1).drop('tags',1)\n",
        "print('Tags:\\n',tags.head())\n",
        "tags.shape"
      ],
      "metadata": {
        "colab": {
          "base_uri": "https://localhost:8080/"
        },
        "id": "sRgpKh1r36eE",
        "outputId": "a8b6f2fe-3d8f-4b8d-b961-b5c6736fe6e5"
      },
      "execution_count": null,
      "outputs": [
        {
          "output_type": "stream",
          "name": "stdout",
          "text": [
            "Tags:\n",
            "          Desayuno  Tour  Alojamiento  Economico  Playa  Costoso  Tren  Regular\n",
            "viajeid                                                                       \n",
            "1             1.0   1.0          1.0        1.0    1.0      0.0   0.0      0.0\n",
            "2             1.0   1.0          1.0        0.0    0.0      1.0   0.0      0.0\n",
            "3             1.0   1.0          1.0        0.0    0.0      1.0   0.0      0.0\n",
            "4             1.0   1.0          1.0        1.0    0.0      0.0   0.0      0.0\n",
            "5             1.0   1.0          1.0        0.0    0.0      1.0   0.0      0.0\n"
          ]
        },
        {
          "output_type": "stream",
          "name": "stderr",
          "text": [
            "<ipython-input-40-bdf1c3eacf04>:2: FutureWarning: In a future version of pandas all arguments of DataFrame.drop except for the argument 'labels' will be keyword-only.\n",
            "  tags = tags.drop('viajeid',1).drop('title',1).drop('tags',1)\n",
            "<ipython-input-40-bdf1c3eacf04>:2: FutureWarning: In a future version of pandas all arguments of DataFrame.drop except for the argument 'labels' will be keyword-only.\n",
            "  tags = tags.drop('viajeid',1).drop('title',1).drop('tags',1)\n",
            "<ipython-input-40-bdf1c3eacf04>:2: FutureWarning: In a future version of pandas all arguments of DataFrame.drop except for the argument 'labels' will be keyword-only.\n",
            "  tags = tags.drop('viajeid',1).drop('title',1).drop('tags',1)\n"
          ]
        },
        {
          "output_type": "execute_result",
          "data": {
            "text/plain": [
              "(23, 8)"
            ]
          },
          "metadata": {},
          "execution_count": 40
        }
      ]
    },
    {
      "cell_type": "code",
      "source": [
        "recom=((tags*perfil_usu).sum(axis=1))/(perfil_usu.sum())\n",
        "print('Recomendaciones:\\n',recom.head())"
      ],
      "metadata": {
        "colab": {
          "base_uri": "https://localhost:8080/"
        },
        "id": "KmuRrofe4KPS",
        "outputId": "55870de0-6e1e-49a4-e06a-48c2377893f1"
      },
      "execution_count": null,
      "outputs": [
        {
          "output_type": "stream",
          "name": "stdout",
          "text": [
            "Recomendaciones:\n",
            " viajeid\n",
            "1    0.727273\n",
            "2    0.836364\n",
            "3    0.836364\n",
            "4    0.690909\n",
            "5    0.836364\n",
            "dtype: float64\n"
          ]
        }
      ]
    },
    {
      "cell_type": "code",
      "source": [
        "recom=recom.sort_values(ascending=False)\n",
        "print('Recomendaciones En Orden:\\n',recom.head())"
      ],
      "metadata": {
        "colab": {
          "base_uri": "https://localhost:8080/"
        },
        "id": "WusiGAcT6HSl",
        "outputId": "9e8c5472-322a-4a85-8c77-28af7865117f"
      },
      "execution_count": null,
      "outputs": [
        {
          "output_type": "stream",
          "name": "stdout",
          "text": [
            "Recomendaciones En Orden:\n",
            " viajeid\n",
            "19    0.927273\n",
            "14    0.927273\n",
            "18    0.927273\n",
            "6     0.927273\n",
            "17    0.927273\n",
            "dtype: float64\n"
          ]
        }
      ]
    },
    {
      "cell_type": "code",
      "source": [
        "final=viajes.loc[viajes['viajeid'].isin(recom.head(3).keys())]\n",
        "nfinal=final[['title']]\n",
        "print('Viajes Recomendados:\\n',nfinal)"
      ],
      "metadata": {
        "colab": {
          "base_uri": "https://localhost:8080/"
        },
        "id": "Or8fdM1J6zPU",
        "outputId": "0543e2a6-a875-4242-897e-e082a6de3714"
      },
      "execution_count": null,
      "outputs": [
        {
          "output_type": "stream",
          "name": "stdout",
          "text": [
            "Viajes Recomendados:\n",
            "                       title\n",
            "13     Machu Picchu Express\n",
            "17  Machu Picchu y Caminata\n",
            "18    Machu Picchu Moderado\n"
          ]
        }
      ]
    },
    {
      "cell_type": "code",
      "source": [],
      "metadata": {
        "id": "PspJNne077k7"
      },
      "execution_count": null,
      "outputs": []
    }
  ]
}